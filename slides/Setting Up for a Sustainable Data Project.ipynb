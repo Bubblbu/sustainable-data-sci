{
 "cells": [
  {
   "cell_type": "markdown",
   "id": "bf27cf2f",
   "metadata": {
    "slideshow": {
     "slide_type": "slide"
    }
   },
   "source": [
    "# Sustainable (Small) Data Science\n",
    "\n",
    "> Tips and tricks to set up, execute, and conclude a data science project for humans\n",
    "\n",
    "---\n",
    "\n",
    "Asura Enkhbayar, [ScholCommLab](https://www.scholcommlab.ca/), Simon Fraser University\n",
    "\n",
    "Twitter: [@bubblbu_](https://twitter.com/bubblbu_)\n",
    "Github: [bubblbu](https://github.com/bubblbu)\n",
    "email: asura.enkhbayar@gmail.com"
   ]
  },
  {
   "cell_type": "markdown",
   "id": "df9b7fe5",
   "metadata": {
    "slideshow": {
     "slide_type": "subslide"
    }
   },
   "source": [
    "## Outline\n",
    "\n",
    "1. Introduction\n",
    "1. Why _sustainabile_ data science?\n",
    "1. Types of considerations for sustainable data practices\n",
    "1. Tips and tricks\n",
    "\n",
    "---\n",
    "\n",
    "Repository: https://github.com/Bubblbu/sustainable-data-sci"
   ]
  },
  {
   "cell_type": "markdown",
   "id": "7d04672f",
   "metadata": {
    "slideshow": {
     "slide_type": "subslide"
    }
   },
   "source": [
    "### About me\n",
    "\n",
    "- I am a PhD student\n",
    "- I usually work on multiple projects at the same time\n",
    "- I often work in interdisciplinary settings\n",
    "- I often am the \"data\" person"
   ]
  },
  {
   "cell_type": "markdown",
   "id": "21a7baf2",
   "metadata": {
    "slideshow": {
     "slide_type": "subslide"
    }
   },
   "source": [
    "### About you\n",
    "\n",
    "[https://pollev.com/asuraenkhbayar391](https://pollev.com/asuraenkhbayar391)"
   ]
  },
  {
   "cell_type": "markdown",
   "id": "779d180b",
   "metadata": {
    "slideshow": {
     "slide_type": "slide"
    }
   },
   "source": [
    "## Why _sustainable_ data science?\n",
    "\n",
    "- What's wrong with open science or reproducible science?\n",
    "\n",
    "- We rarely talk about the non-financial cost of open and reproducible practices\n",
    "    - Cost of labor\n",
    "    - Cost of training and education\n",
    "    - Maintenance cost\n",
    "    - Opportunity cost\n",
    "\n",
    "- Sustainable data science also considers the **affordability** of data science practices"
   ]
  },
  {
   "cell_type": "markdown",
   "id": "1ecfbf7a",
   "metadata": {
    "slideshow": {
     "slide_type": "subslide"
    }
   },
   "source": [
    "<center><img src='../sustainable_data_science.png'></center>"
   ]
  },
  {
   "cell_type": "markdown",
   "id": "95423f5a",
   "metadata": {
    "slideshow": {
     "slide_type": "subslide"
    }
   },
   "source": [
    "### Unsustainable data science\n",
    "\n",
    "neglects the costs of reproducible and open science\n",
    "\n",
    "- Reproducibility/openness as a status; sometimes only addressed after the fact\n",
    "- Ignoring the technical limitations of open source tools\n",
    "- Relying on individual committment and enthusiasm which can feed into exploitative conditions and burnout"
   ]
  },
  {
   "cell_type": "markdown",
   "id": "dd3a8eb8",
   "metadata": {
    "slideshow": {
     "slide_type": "slide"
    }
   },
   "source": [
    "## Considerations for sustainable data practices"
   ]
  },
  {
   "cell_type": "markdown",
   "id": "73bde00e",
   "metadata": {
    "slideshow": {
     "slide_type": "subslide"
    }
   },
   "source": [
    "### What challenges have you encountered while working with data?\n",
    " \n",
    "https://PollEv.com/free_text_polls/LMWIZtWYsXaPXsuBQthxP/respond"
   ]
  },
  {
   "cell_type": "markdown",
   "id": "478e2bda",
   "metadata": {
    "slideshow": {
     "slide_type": "subslide"
    }
   },
   "source": [
    "### Project requirements\n",
    "\n",
    "- What kind of data are you working with?\n",
    "- What is the scope of the project?\n",
    "- Who will need to access the data at which stages of research?"
   ]
  },
  {
   "cell_type": "markdown",
   "id": "0f96524c",
   "metadata": {
    "slideshow": {
     "slide_type": "subslide"
    }
   },
   "source": [
    "### Labor and skills\n",
    "\n",
    "- I am a PhD student\n",
    "    - Not a full-time researcher\n",
    "- I often work in interdisciplinary settings\n",
    "    - Collaborations are common\n",
    "    - I often need to communicate results at different stages of the research    \n",
    "- I usually work on multiple projects at the same time\n",
    "    - Learning new tools is common\n",
    "- I have a background in engineering\n",
    "    - Not a trained software developer, data architect, or data scientist\n",
    "    - Data collection, cleaning, processing, and analysis"
   ]
  },
  {
   "cell_type": "markdown",
   "id": "e068b860",
   "metadata": {
    "slideshow": {
     "slide_type": "subslide"
    }
   },
   "source": [
    "### Tools and processes\n",
    "\n",
    "- Is it FOSS?\n",
    "- Is it versatile?\n",
    "- Can it be quickly tested?\n",
    "- Dpes it have a community of users?\n",
    "- Can it be replaced?"
   ]
  },
  {
   "cell_type": "markdown",
   "id": "c91e7ff7",
   "metadata": {
    "slideshow": {
     "slide_type": "subslide"
    }
   },
   "source": [
    "### What tools are you interested in using in you future projects?\n",
    "\n",
    "https://PollEv.com/free_text_polls/tYVBuilMTG7mxwB4c5xCE/respond"
   ]
  },
  {
   "cell_type": "markdown",
   "id": "f6b552f2",
   "metadata": {
    "slideshow": {
     "slide_type": "slide"
    }
   },
   "source": [
    "## Tools, tips, processes for sustainable data science\n",
    "\n",
    "https://github.com/Bubblbu/sustainable-data-sci"
   ]
  },
  {
   "cell_type": "markdown",
   "id": "4334cf2a",
   "metadata": {
    "slideshow": {
     "slide_type": "subslide"
    }
   },
   "source": [
    "### Setting up projects\n",
    "\n",
    "#### Project structure\n",
    "\n",
    "- Reuse folder structures (e.g., [Cookiecutter data science template](https://drivendata.github.io/cookiecutter-data-science/))\n",
    "\n",
    "- My own project structure: https://github.com/ScholCommLab/altmetric-news-quality"
   ]
  },
  {
   "cell_type": "markdown",
   "id": "70a1bb17",
   "metadata": {
    "slideshow": {
     "slide_type": "subslide"
    }
   },
   "source": [
    "### Executing projects\n",
    "\n",
    "#### Utility\n",
    "- Progress bars: [tqdm](https://tqdm.github.io/)\n",
    "- APIs: [Postman](https://www.postman.com/)\n",
    "\n",
    "#### Development\n",
    "\n",
    "- Stick to a method of dependency management\n",
    "    - For Python I use: [Poetry](https://python-poetry.org/), [pyenv](https://github.com/pyenv/pyenv), [pipx](https://github.com/pypa/pipx)\n",
    "- Utilize notebooks and interactive development\n",
    "- Serious development in notebooks: [nbdev](https://nbdev.fast.ai/)\n",
    "\n",
    "#### Research process\n",
    "\n",
    "- Github Wiki as a research log: https://github.com/ScholCommLab/altmetric-news-quality/wiki"
   ]
  },
  {
   "cell_type": "markdown",
   "id": "8731184d",
   "metadata": {
    "slideshow": {
     "slide_type": "subslide"
    }
   },
   "source": [
    "### Completing projects\n",
    "\n",
    "#### Publications\n",
    "\n",
    "- Separate data work from scholarly articles. e.g.: https://github.com/ScholCommLab/facebook-hidden-engagement\n",
    "    1. Versioned code repository with DOI (Github + Zenodo)\n",
    "    1. Versioned data repository with DOI (Dataverse)\n",
    "    1. Versioned repository with code/data to reproduce article (Github + Zenodo)"
   ]
  },
  {
   "cell_type": "markdown",
   "id": "0145a9b1",
   "metadata": {
    "slideshow": {
     "slide_type": "slide"
    }
   },
   "source": [
    "# Thanks, y'all"
   ]
  }
 ],
 "metadata": {
  "celltoolbar": "Slideshow",
  "kernelspec": {
   "display_name": "datasci",
   "language": "python",
   "name": "datasci"
  },
  "language_info": {
   "codemirror_mode": {
    "name": "ipython",
    "version": 3
   },
   "file_extension": ".py",
   "mimetype": "text/x-python",
   "name": "python",
   "nbconvert_exporter": "python",
   "pygments_lexer": "ipython3",
   "version": "3.8.12"
  }
 },
 "nbformat": 4,
 "nbformat_minor": 5
}
